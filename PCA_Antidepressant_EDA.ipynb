{
 "cells": [
  {
   "cell_type": "markdown",
   "id": "97abd4d9",
   "metadata": {},
   "source": [
    "<p style=\"text-align:center;\">\n",
    "<img src=\"https://qualitasconsortium.uk/wp-content/uploads/2023/03/nhs-england-logo.png\"\n",
    "     alt=\"NHSBanner\"\n",
    "     style=\"float: center; margin-right: 10px;\"\n",
    "     width=\"680\" height=\"260\" />\n",
    "</p>"
   ]
  },
  {
   "cell_type": "code",
   "execution_count": 1,
   "id": "13e1590c",
   "metadata": {},
   "outputs": [],
   "source": [
    "import pandas as pd\n",
    "import numpy as np\n",
    "import os\n",
    "import matplotlib.pyplot as plt\n",
    "import seaborn as sns"
   ]
  },
  {
   "cell_type": "markdown",
   "id": "1ced2c80",
   "metadata": {},
   "source": [
    "## 1. Preparing our Dataframe"
   ]
  },
  {
   "cell_type": "markdown",
   "id": "2b9b3055",
   "metadata": {},
   "source": [
    "### 1.1 Import Data"
   ]
  },
  {
   "cell_type": "markdown",
   "id": "e2081dd1",
   "metadata": {},
   "source": [
    "The Prescription Cost Analysis data is spread across <b>six different datasets</b> - one for each year.\n",
    "\n",
    "These will be loaded into python individually, and then concatenated to form <b>one dataset containing data for all years</b>. This dataset will then be used for the rest of the analysis."
   ]
  },
  {
   "cell_type": "code",
   "execution_count": 2,
   "id": "7ee1b33f",
   "metadata": {},
   "outputs": [],
   "source": [
    "df_2019 = pd.read_csv('pca_stp_snomed_2019.csv')"
   ]
  },
  {
   "cell_type": "code",
   "execution_count": 3,
   "id": "72736034",
   "metadata": {},
   "outputs": [],
   "source": [
    "df_2020 = pd.read_csv('pca_stp_snomed_2020.csv')"
   ]
  },
  {
   "cell_type": "code",
   "execution_count": 4,
   "id": "fc70c051",
   "metadata": {},
   "outputs": [],
   "source": [
    "df_2021 = pd.read_csv('pca_stp_snomed_2021.csv')"
   ]
  },
  {
   "cell_type": "code",
   "execution_count": 5,
   "id": "9385495b",
   "metadata": {},
   "outputs": [],
   "source": [
    "df_2022 = pd.read_csv('pca_icb_snomed_2022.csv', dtype={5: 'str', 12: 'str'})"
   ]
  },
  {
   "cell_type": "code",
   "execution_count": 6,
   "id": "08cb8e8e",
   "metadata": {},
   "outputs": [],
   "source": [
    "df_2023 = pd.read_csv('pca_icb_snomed_2023.csv')"
   ]
  },
  {
   "cell_type": "code",
   "execution_count": 7,
   "id": "ad155159",
   "metadata": {},
   "outputs": [],
   "source": [
    "df_2024 = pd.read_csv('pca_icb_snomed_2024.csv')"
   ]
  },
  {
   "cell_type": "code",
   "execution_count": 8,
   "id": "d37abf6c",
   "metadata": {},
   "outputs": [],
   "source": [
    "# Show all columns in a DataFrame\n",
    "pd.set_option('display.max_columns', None)\n",
    "\n",
    "# Check that the 2019 dataset has been loaded in properly\n",
    "df_2019.head();"
   ]
  },
  {
   "cell_type": "code",
   "execution_count": 9,
   "id": "dc4028c7",
   "metadata": {},
   "outputs": [],
   "source": [
    "# Check that the 2024 dataset has been loaded in properly\n",
    "df_2024.head();"
   ]
  },
  {
   "cell_type": "markdown",
   "id": "a0fc4866",
   "metadata": {},
   "source": [
    "### 1.2 Creating a Single, Usable Dataframe For Our Analysis"
   ]
  },
  {
   "cell_type": "markdown",
   "id": "f945fd51",
   "metadata": {},
   "source": [
    "All data has now been loaded into separate dataframes. Next, we need to concatenate these together into one dataframe."
   ]
  },
  {
   "cell_type": "markdown",
   "id": "490c6bfb",
   "metadata": {},
   "source": [
    "* However, we can't do that immediately. This is because upon inspection of each dataframe, the columns vary slightly for the years 2019-2021 and 2022-2024.\n",
    "\n",
    "\n",
    "* In 2019-2021, the NHS body responsible for the dispensation of prescriptions for a particular defined region were called STP's. In 2022, due to regulatory changes to the NHS, these STP's were 'reformed' to create ICB's. These datasets reflect this change in two of their columns.\n",
    "\n",
    "\n",
    "* In the 2019-2021 datasets, we have the columns \"STP_NAME\" and \"STP_CODE\". In the 2022-2024 datasets, we have \"ICB_NAME\" and \"ICB_CODE\".\n",
    "\n",
    "\n",
    "\n",
    "Before we can concatenate these datasets together, we need to standardise these two column names so they match. We will use the standardised column names: \"GEOGRAPHY_NAME\" and \"GEOGRAPHY_CODE\".\n",
    "\n",
    "Once concatenated, will filter our dataframe to include data relating only to antidepressant prescription.\n",
    "\n"
   ]
  },
  {
   "cell_type": "markdown",
   "id": "03b55496",
   "metadata": {},
   "source": [
    "#### Standardising column names across dataframes"
   ]
  },
  {
   "cell_type": "code",
   "execution_count": 10,
   "id": "978a6402",
   "metadata": {},
   "outputs": [],
   "source": [
    "# Rename columns in df_2019, df_2020, and df_2021\n",
    "df_2019.rename(columns={\"STP_NAME\": \"GEOGRAPHY_NAME\", \"STP_CODE\": \"GEOGRAPHY_CODE\"}, inplace=True)\n",
    "df_2020.rename(columns={\"STP_NAME\": \"GEOGRAPHY_NAME\", \"STP_CODE\": \"GEOGRAPHY_CODE\"}, inplace=True)\n",
    "df_2021.rename(columns={\"STP_NAME\": \"GEOGRAPHY_NAME\", \"STP_CODE\": \"GEOGRAPHY_CODE\"}, inplace=True)\n",
    "\n",
    "# Rename columns in df_2022, df_2023, and df_2024\n",
    "df_2022.rename(columns={\"ICB_NAME\": \"GEOGRAPHY_NAME\", \"ICB_CODE\": \"GEOGRAPHY_CODE\"}, inplace=True)\n",
    "df_2023.rename(columns={\"ICB_NAME\": \"GEOGRAPHY_NAME\", \"ICB_CODE\": \"GEOGRAPHY_CODE\"}, inplace=True)\n",
    "df_2024.rename(columns={\"ICB_NAME\": \"GEOGRAPHY_NAME\", \"ICB_CODE\": \"GEOGRAPHY_CODE\"}, inplace=True)"
   ]
  },
  {
   "cell_type": "markdown",
   "id": "e08adae6",
   "metadata": {},
   "source": [
    "Let's check if it's worked"
   ]
  },
  {
   "cell_type": "code",
   "execution_count": 11,
   "id": "841f2e8b",
   "metadata": {},
   "outputs": [
    {
     "data": {
      "text/html": [
       "<div>\n",
       "<style scoped>\n",
       "    .dataframe tbody tr th:only-of-type {\n",
       "        vertical-align: middle;\n",
       "    }\n",
       "\n",
       "    .dataframe tbody tr th {\n",
       "        vertical-align: top;\n",
       "    }\n",
       "\n",
       "    .dataframe thead th {\n",
       "        text-align: right;\n",
       "    }\n",
       "</style>\n",
       "<table border=\"1\" class=\"dataframe\">\n",
       "  <thead>\n",
       "    <tr style=\"text-align: right;\">\n",
       "      <th></th>\n",
       "      <th>YEAR_DESC</th>\n",
       "      <th>REGION_NAME</th>\n",
       "      <th>REGION_CODE</th>\n",
       "      <th>GEOGRAPHY_NAME</th>\n",
       "      <th>GEOGRAPHY_CODE</th>\n",
       "      <th>BNF_PRESENTATION_CODE</th>\n",
       "      <th>BNF_PRESENTATION_NAME</th>\n",
       "      <th>SNOMED_CODE</th>\n",
       "      <th>SUPPLIER_NAME</th>\n",
       "      <th>UNIT_OF_MEASURE</th>\n",
       "      <th>GENERIC_BNF_EQUIVALENT_CODE</th>\n",
       "      <th>GENERIC_BNF_EQUIVALENT_NAME</th>\n",
       "      <th>BNF_CHEMICAL_SUBSTANCE_CODE</th>\n",
       "      <th>BNF_CHEMICAL_SUBSTANCE</th>\n",
       "      <th>BNF_PARAGRAPH_CODE</th>\n",
       "      <th>BNF_PARAGRAPH</th>\n",
       "      <th>BNF_SECTION_CODE</th>\n",
       "      <th>BNF_SECTION</th>\n",
       "      <th>BNF_CHAPTER_CODE</th>\n",
       "      <th>BNF_CHAPTER</th>\n",
       "      <th>PREP_CLASS</th>\n",
       "      <th>PRESCRIBED_PREP_CLASS</th>\n",
       "      <th>ITEMS</th>\n",
       "      <th>TOTAL_QUANTITY</th>\n",
       "      <th>NIC</th>\n",
       "      <th>NIC_PER_ITEM</th>\n",
       "      <th>NIC_PER_QUANTITY</th>\n",
       "      <th>QUANTITY_PER_ITEM</th>\n",
       "    </tr>\n",
       "  </thead>\n",
       "  <tbody>\n",
       "    <tr>\n",
       "      <th>0</th>\n",
       "      <td>2021</td>\n",
       "      <td>LONDON</td>\n",
       "      <td>Y56</td>\n",
       "      <td>EAST LONDON HEALTH &amp; CARE P/SHIP STP</td>\n",
       "      <td>QMF</td>\n",
       "      <td>0206020Z0BBACAC</td>\n",
       "      <td>Exforge 10mg/160mg tablets</td>\n",
       "      <td>1.116071e+16</td>\n",
       "      <td>Novartis Pharmaceuticals UK Ltd</td>\n",
       "      <td>tablet</td>\n",
       "      <td>0206020Z0AAACAC</td>\n",
       "      <td>Amlodipine 10mg / Valsartan 160mg tablets</td>\n",
       "      <td>0206020Z0</td>\n",
       "      <td>Valsartan/amlodipine</td>\n",
       "      <td>20602</td>\n",
       "      <td>Calcium-channel blockers</td>\n",
       "      <td>206</td>\n",
       "      <td>Nitrates, calcium-channel blockers &amp; other ant...</td>\n",
       "      <td>2</td>\n",
       "      <td>Cardiovascular System</td>\n",
       "      <td>3</td>\n",
       "      <td>3</td>\n",
       "      <td>45</td>\n",
       "      <td>1932.0</td>\n",
       "      <td>1829.19</td>\n",
       "      <td>40.64867</td>\n",
       "      <td>0.94679</td>\n",
       "      <td>42.93333</td>\n",
       "    </tr>\n",
       "  </tbody>\n",
       "</table>\n",
       "</div>"
      ],
      "text/plain": [
       "   YEAR_DESC REGION_NAME REGION_CODE                        GEOGRAPHY_NAME  \\\n",
       "0       2021      LONDON         Y56  EAST LONDON HEALTH & CARE P/SHIP STP   \n",
       "\n",
       "  GEOGRAPHY_CODE BNF_PRESENTATION_CODE       BNF_PRESENTATION_NAME  \\\n",
       "0            QMF       0206020Z0BBACAC  Exforge 10mg/160mg tablets   \n",
       "\n",
       "    SNOMED_CODE                    SUPPLIER_NAME UNIT_OF_MEASURE  \\\n",
       "0  1.116071e+16  Novartis Pharmaceuticals UK Ltd          tablet   \n",
       "\n",
       "  GENERIC_BNF_EQUIVALENT_CODE                GENERIC_BNF_EQUIVALENT_NAME  \\\n",
       "0             0206020Z0AAACAC  Amlodipine 10mg / Valsartan 160mg tablets   \n",
       "\n",
       "  BNF_CHEMICAL_SUBSTANCE_CODE BNF_CHEMICAL_SUBSTANCE  BNF_PARAGRAPH_CODE  \\\n",
       "0                   0206020Z0   Valsartan/amlodipine               20602   \n",
       "\n",
       "              BNF_PARAGRAPH  BNF_SECTION_CODE  \\\n",
       "0  Calcium-channel blockers               206   \n",
       "\n",
       "                                         BNF_SECTION  BNF_CHAPTER_CODE  \\\n",
       "0  Nitrates, calcium-channel blockers & other ant...                 2   \n",
       "\n",
       "             BNF_CHAPTER  PREP_CLASS  PRESCRIBED_PREP_CLASS  ITEMS  \\\n",
       "0  Cardiovascular System           3                      3     45   \n",
       "\n",
       "   TOTAL_QUANTITY      NIC  NIC_PER_ITEM  NIC_PER_QUANTITY  QUANTITY_PER_ITEM  \n",
       "0          1932.0  1829.19      40.64867           0.94679           42.93333  "
      ]
     },
     "execution_count": 11,
     "metadata": {},
     "output_type": "execute_result"
    }
   ],
   "source": [
    "df_2021.head(1)"
   ]
  },
  {
   "cell_type": "code",
   "execution_count": 12,
   "id": "479e771b",
   "metadata": {},
   "outputs": [
    {
     "data": {
      "text/html": [
       "<div>\n",
       "<style scoped>\n",
       "    .dataframe tbody tr th:only-of-type {\n",
       "        vertical-align: middle;\n",
       "    }\n",
       "\n",
       "    .dataframe tbody tr th {\n",
       "        vertical-align: top;\n",
       "    }\n",
       "\n",
       "    .dataframe thead th {\n",
       "        text-align: right;\n",
       "    }\n",
       "</style>\n",
       "<table border=\"1\" class=\"dataframe\">\n",
       "  <thead>\n",
       "    <tr style=\"text-align: right;\">\n",
       "      <th></th>\n",
       "      <th>YEAR_DESC</th>\n",
       "      <th>REGION_NAME</th>\n",
       "      <th>REGION_CODE</th>\n",
       "      <th>GEOGRAPHY_NAME</th>\n",
       "      <th>GEOGRAPHY_CODE</th>\n",
       "      <th>BNF_PRESENTATION_CODE</th>\n",
       "      <th>BNF_PRESENTATION_NAME</th>\n",
       "      <th>SNOMED_CODE</th>\n",
       "      <th>SUPPLIER_NAME</th>\n",
       "      <th>UNIT_OF_MEASURE</th>\n",
       "      <th>GENERIC_BNF_EQUIVALENT_CODE</th>\n",
       "      <th>GENERIC_BNF_EQUIVALENT_NAME</th>\n",
       "      <th>BNF_CHEMICAL_SUBSTANCE_CODE</th>\n",
       "      <th>BNF_CHEMICAL_SUBSTANCE</th>\n",
       "      <th>BNF_PARAGRAPH_CODE</th>\n",
       "      <th>BNF_PARAGRAPH</th>\n",
       "      <th>BNF_SECTION_CODE</th>\n",
       "      <th>BNF_SECTION</th>\n",
       "      <th>BNF_CHAPTER_CODE</th>\n",
       "      <th>BNF_CHAPTER</th>\n",
       "      <th>PREP_CLASS</th>\n",
       "      <th>PRESCRIBED_PREP_CLASS</th>\n",
       "      <th>ITEMS</th>\n",
       "      <th>TOTAL_QUANTITY</th>\n",
       "      <th>NIC</th>\n",
       "      <th>NIC_PER_ITEM</th>\n",
       "      <th>NIC_PER_QUANTITY</th>\n",
       "      <th>QUANTITY_PER_ITEM</th>\n",
       "    </tr>\n",
       "  </thead>\n",
       "  <tbody>\n",
       "    <tr>\n",
       "      <th>0</th>\n",
       "      <td>2024</td>\n",
       "      <td>LONDON</td>\n",
       "      <td>Y56</td>\n",
       "      <td>NHS NORTH CENTRAL LONDON INTEGRATED CARE BOARD</td>\n",
       "      <td>QMJ</td>\n",
       "      <td>0302000N0BCABAY</td>\n",
       "      <td>Seretide 250 Accuhaler</td>\n",
       "      <td>3.187211e+15</td>\n",
       "      <td>GlaxoSmithKline UK Ltd</td>\n",
       "      <td>dose</td>\n",
       "      <td>0302000N0AAAYAY</td>\n",
       "      <td>Fluticasone propionate 250microg/Salmeterol 50...</td>\n",
       "      <td>0302000N0</td>\n",
       "      <td>Fluticasone propionate (Inhalation)</td>\n",
       "      <td>30200</td>\n",
       "      <td>Corticosteroids (respiratory)</td>\n",
       "      <td>302</td>\n",
       "      <td>Corticosteroids (respiratory)</td>\n",
       "      <td>3</td>\n",
       "      <td>Respiratory System</td>\n",
       "      <td>3</td>\n",
       "      <td>2</td>\n",
       "      <td>732</td>\n",
       "      <td>1138.0</td>\n",
       "      <td>38635.1</td>\n",
       "      <td>52.78019</td>\n",
       "      <td>33.95</td>\n",
       "      <td>1.55464</td>\n",
       "    </tr>\n",
       "  </tbody>\n",
       "</table>\n",
       "</div>"
      ],
      "text/plain": [
       "   YEAR_DESC REGION_NAME REGION_CODE  \\\n",
       "0       2024      LONDON         Y56   \n",
       "\n",
       "                                   GEOGRAPHY_NAME GEOGRAPHY_CODE  \\\n",
       "0  NHS NORTH CENTRAL LONDON INTEGRATED CARE BOARD            QMJ   \n",
       "\n",
       "  BNF_PRESENTATION_CODE   BNF_PRESENTATION_NAME   SNOMED_CODE  \\\n",
       "0       0302000N0BCABAY  Seretide 250 Accuhaler  3.187211e+15   \n",
       "\n",
       "            SUPPLIER_NAME UNIT_OF_MEASURE GENERIC_BNF_EQUIVALENT_CODE  \\\n",
       "0  GlaxoSmithKline UK Ltd            dose             0302000N0AAAYAY   \n",
       "\n",
       "                         GENERIC_BNF_EQUIVALENT_NAME  \\\n",
       "0  Fluticasone propionate 250microg/Salmeterol 50...   \n",
       "\n",
       "  BNF_CHEMICAL_SUBSTANCE_CODE               BNF_CHEMICAL_SUBSTANCE  \\\n",
       "0                   0302000N0  Fluticasone propionate (Inhalation)   \n",
       "\n",
       "   BNF_PARAGRAPH_CODE                  BNF_PARAGRAPH  BNF_SECTION_CODE  \\\n",
       "0               30200  Corticosteroids (respiratory)               302   \n",
       "\n",
       "                     BNF_SECTION  BNF_CHAPTER_CODE         BNF_CHAPTER  \\\n",
       "0  Corticosteroids (respiratory)                 3  Respiratory System   \n",
       "\n",
       "   PREP_CLASS  PRESCRIBED_PREP_CLASS  ITEMS  TOTAL_QUANTITY      NIC  \\\n",
       "0           3                      2    732          1138.0  38635.1   \n",
       "\n",
       "   NIC_PER_ITEM  NIC_PER_QUANTITY  QUANTITY_PER_ITEM  \n",
       "0      52.78019             33.95            1.55464  "
      ]
     },
     "execution_count": 12,
     "metadata": {},
     "output_type": "execute_result"
    }
   ],
   "source": [
    "df_2024.head(1)"
   ]
  },
  {
   "cell_type": "markdown",
   "id": "85d16990",
   "metadata": {},
   "source": [
    "It has!"
   ]
  },
  {
   "cell_type": "markdown",
   "id": "60278772",
   "metadata": {},
   "source": [
    "Each dataframe is now ready to be concatenated to construct one, new dataframe containing all data. This new dataframe will be used for the rest of the project."
   ]
  },
  {
   "cell_type": "markdown",
   "id": "201c84a9",
   "metadata": {},
   "source": [
    "#### Concatenation"
   ]
  },
  {
   "cell_type": "code",
   "execution_count": 13,
   "id": "0b8c807d",
   "metadata": {},
   "outputs": [],
   "source": [
    "\n",
    "# List of DataFrames to Concatenate\n",
    "list_of_dataframes = [\n",
    "    df_2019,\n",
    "    df_2020,\n",
    "    df_2021,\n",
    "    df_2022,\n",
    "    df_2023,\n",
    "    df_2024\n",
    "]\n",
    "\n"
   ]
  },
  {
   "cell_type": "code",
   "execution_count": 14,
   "id": "ed4eb49e",
   "metadata": {},
   "outputs": [],
   "source": [
    "# Concatenate all DataFrames in the list\n",
    "# ignore_index=True will create a new clean index for the combined DataFrame\n",
    "df = pd.concat(list_of_dataframes, ignore_index=True)"
   ]
  },
  {
   "cell_type": "markdown",
   "id": "e6b59aaa",
   "metadata": {},
   "source": [
    "#### Let's verify that the dataframes have been concatenated correctly"
   ]
  },
  {
   "cell_type": "code",
   "execution_count": 15,
   "id": "146fc07d",
   "metadata": {},
   "outputs": [
    {
     "data": {
      "text/plain": [
       "(4618764, 28)"
      ]
     },
     "execution_count": 15,
     "metadata": {},
     "output_type": "execute_result"
    }
   ],
   "source": [
    "# Let's check how many rows are in the dataframe\n",
    "df.shape"
   ]
  },
  {
   "cell_type": "code",
   "execution_count": 16,
   "id": "67231f98",
   "metadata": {},
   "outputs": [],
   "source": [
    "# All the columns look correct!\n",
    "df.columns.to_list();"
   ]
  },
  {
   "cell_type": "code",
   "execution_count": 17,
   "id": "2a3519e1",
   "metadata": {},
   "outputs": [],
   "source": [
    "# The dataframe begins with 2019 data at index = 0\n",
    "df.head();"
   ]
  },
  {
   "cell_type": "code",
   "execution_count": 18,
   "id": "9dd7c762",
   "metadata": {},
   "outputs": [],
   "source": [
    "# And ends with 2024 data at index = 4618763\n",
    "# This all looks correct!\n",
    "df.tail();"
   ]
  },
  {
   "cell_type": "code",
   "execution_count": 19,
   "id": "89018172",
   "metadata": {},
   "outputs": [],
   "source": [
    "# Let's check how many observations there are for each year\n",
    "# Matches the original datasets, so all looks good\n",
    "df['YEAR_DESC'].value_counts().sort_index();"
   ]
  },
  {
   "cell_type": "markdown",
   "id": "604bf7b4",
   "metadata": {},
   "source": [
    "Everything Looks good!\n",
    "\n",
    "Our dataframe is currently massive (over 4 million rows!). However, we are not concerned with a lot of this data. That is because this dataset covers _all_ prescriptions dispensed in England, not only antidepressant prescriptions.\n",
    "\n",
    "The last step to getting our dataset ready for cleaning and preparation is to filter it to include _only_ data relating to antidepressant prescriptions."
   ]
  },
  {
   "cell_type": "markdown",
   "id": "0951acf9",
   "metadata": {},
   "source": [
    "#### Creating our Antidepressant Dataframe"
   ]
  },
  {
   "cell_type": "markdown",
   "id": "46d08039",
   "metadata": {},
   "source": [
    "The column \"BNF_SECTION\" contains data relating to the drug classification of a prescription.\n",
    "\n",
    "We first need to check what drug classifications are defined in the dataset"
   ]
  },
  {
   "cell_type": "code",
   "execution_count": 20,
   "id": "d3ac8a18",
   "metadata": {},
   "outputs": [],
   "source": [
    "# Check all of the unique classes in the BNF_SECTION field\n",
    "df['BNF_SECTION'].unique();"
   ]
  },
  {
   "cell_type": "markdown",
   "id": "11482add",
   "metadata": {},
   "source": [
    "We can see that their is only one classification relating to antidepressant prescription, which is called \"Antidepressant drugs\".\n",
    "\n",
    "This is what we will use to filter and refine our dataset."
   ]
  },
  {
   "cell_type": "code",
   "execution_count": 21,
   "id": "c0f7416e",
   "metadata": {},
   "outputs": [],
   "source": [
    "# Create our new dataframe containing data on only antidepressant prescription\n",
    "df_ad = df[df['BNF_SECTION'] == \"Antidepressant drugs\"].copy()"
   ]
  },
  {
   "cell_type": "code",
   "execution_count": 22,
   "id": "38a801b4",
   "metadata": {},
   "outputs": [
    {
     "data": {
      "text/html": [
       "<div>\n",
       "<style scoped>\n",
       "    .dataframe tbody tr th:only-of-type {\n",
       "        vertical-align: middle;\n",
       "    }\n",
       "\n",
       "    .dataframe tbody tr th {\n",
       "        vertical-align: top;\n",
       "    }\n",
       "\n",
       "    .dataframe thead th {\n",
       "        text-align: right;\n",
       "    }\n",
       "</style>\n",
       "<table border=\"1\" class=\"dataframe\">\n",
       "  <thead>\n",
       "    <tr style=\"text-align: right;\">\n",
       "      <th></th>\n",
       "      <th>YEAR_DESC</th>\n",
       "      <th>REGION_NAME</th>\n",
       "      <th>REGION_CODE</th>\n",
       "      <th>GEOGRAPHY_NAME</th>\n",
       "      <th>GEOGRAPHY_CODE</th>\n",
       "      <th>BNF_PRESENTATION_CODE</th>\n",
       "      <th>BNF_PRESENTATION_NAME</th>\n",
       "      <th>SNOMED_CODE</th>\n",
       "      <th>SUPPLIER_NAME</th>\n",
       "      <th>UNIT_OF_MEASURE</th>\n",
       "      <th>GENERIC_BNF_EQUIVALENT_CODE</th>\n",
       "      <th>GENERIC_BNF_EQUIVALENT_NAME</th>\n",
       "      <th>BNF_CHEMICAL_SUBSTANCE_CODE</th>\n",
       "      <th>BNF_CHEMICAL_SUBSTANCE</th>\n",
       "      <th>BNF_PARAGRAPH_CODE</th>\n",
       "      <th>BNF_PARAGRAPH</th>\n",
       "      <th>BNF_SECTION_CODE</th>\n",
       "      <th>BNF_SECTION</th>\n",
       "      <th>BNF_CHAPTER_CODE</th>\n",
       "      <th>BNF_CHAPTER</th>\n",
       "      <th>PREP_CLASS</th>\n",
       "      <th>PRESCRIBED_PREP_CLASS</th>\n",
       "      <th>ITEMS</th>\n",
       "      <th>TOTAL_QUANTITY</th>\n",
       "      <th>NIC</th>\n",
       "      <th>NIC_PER_ITEM</th>\n",
       "      <th>NIC_PER_QUANTITY</th>\n",
       "      <th>QUANTITY_PER_ITEM</th>\n",
       "    </tr>\n",
       "  </thead>\n",
       "  <tbody>\n",
       "    <tr>\n",
       "      <th>2962</th>\n",
       "      <td>2019</td>\n",
       "      <td>LONDON</td>\n",
       "      <td>Y56</td>\n",
       "      <td>EAST LONDON HEALTH &amp; CARE P/SHIP STP</td>\n",
       "      <td>QMF</td>\n",
       "      <td>0403010B0AAA6A6</td>\n",
       "      <td>Amitriptyline 10mg/5ml oral liquid</td>\n",
       "      <td>1.387901e+16</td>\n",
       "      <td>Special Order</td>\n",
       "      <td>ml</td>\n",
       "      <td>0403010B0AAA6A6</td>\n",
       "      <td>Amitriptyline 10mg/5ml oral liquid</td>\n",
       "      <td>0403010B0</td>\n",
       "      <td>Amitriptyline hydrochloride</td>\n",
       "      <td>40301</td>\n",
       "      <td>Tricyclic and related antidepressant drugs</td>\n",
       "      <td>403</td>\n",
       "      <td>Antidepressant drugs</td>\n",
       "      <td>4</td>\n",
       "      <td>Central Nervous System</td>\n",
       "      <td>5</td>\n",
       "      <td>5</td>\n",
       "      <td>10</td>\n",
       "      <td>3000.0</td>\n",
       "      <td>2375.68</td>\n",
       "      <td>237.568000</td>\n",
       "      <td>0.791893</td>\n",
       "      <td>300.000000</td>\n",
       "    </tr>\n",
       "    <tr>\n",
       "      <th>2963</th>\n",
       "      <td>2019</td>\n",
       "      <td>LONDON</td>\n",
       "      <td>Y56</td>\n",
       "      <td>EAST LONDON HEALTH &amp; CARE P/SHIP STP</td>\n",
       "      <td>QMF</td>\n",
       "      <td>0403010B0AAAFAF</td>\n",
       "      <td>Amitriptyline 50mg/5ml oral solution sugar free</td>\n",
       "      <td>3.590161e+16</td>\n",
       "      <td>NaN</td>\n",
       "      <td>ml</td>\n",
       "      <td>0403010B0AAAFAF</td>\n",
       "      <td>Amitriptyline 50mg/5ml oral solution sugar free</td>\n",
       "      <td>0403010B0</td>\n",
       "      <td>Amitriptyline hydrochloride</td>\n",
       "      <td>40301</td>\n",
       "      <td>Tricyclic and related antidepressant drugs</td>\n",
       "      <td>403</td>\n",
       "      <td>Antidepressant drugs</td>\n",
       "      <td>4</td>\n",
       "      <td>Central Nervous System</td>\n",
       "      <td>1</td>\n",
       "      <td>1</td>\n",
       "      <td>114</td>\n",
       "      <td>19776.0</td>\n",
       "      <td>2531.32</td>\n",
       "      <td>22.204561</td>\n",
       "      <td>0.128000</td>\n",
       "      <td>173.473684</td>\n",
       "    </tr>\n",
       "    <tr>\n",
       "      <th>2964</th>\n",
       "      <td>2019</td>\n",
       "      <td>LONDON</td>\n",
       "      <td>Y56</td>\n",
       "      <td>EAST LONDON HEALTH &amp; CARE P/SHIP STP</td>\n",
       "      <td>QMF</td>\n",
       "      <td>0403010B0AAAFAF</td>\n",
       "      <td>Amitriptyline 50mg/5ml oral solution sugar free</td>\n",
       "      <td>5.637110e+14</td>\n",
       "      <td>Rosemont Pharmaceuticals Ltd</td>\n",
       "      <td>ml</td>\n",
       "      <td>0403010B0AAAFAF</td>\n",
       "      <td>Amitriptyline 50mg/5ml oral solution sugar free</td>\n",
       "      <td>0403010B0</td>\n",
       "      <td>Amitriptyline hydrochloride</td>\n",
       "      <td>40301</td>\n",
       "      <td>Tricyclic and related antidepressant drugs</td>\n",
       "      <td>403</td>\n",
       "      <td>Antidepressant drugs</td>\n",
       "      <td>4</td>\n",
       "      <td>Central Nervous System</td>\n",
       "      <td>5</td>\n",
       "      <td>5</td>\n",
       "      <td>12</td>\n",
       "      <td>4200.0</td>\n",
       "      <td>481.56</td>\n",
       "      <td>40.130000</td>\n",
       "      <td>0.114657</td>\n",
       "      <td>350.000000</td>\n",
       "    </tr>\n",
       "    <tr>\n",
       "      <th>2965</th>\n",
       "      <td>2019</td>\n",
       "      <td>LONDON</td>\n",
       "      <td>Y56</td>\n",
       "      <td>EAST LONDON HEALTH &amp; CARE P/SHIP STP</td>\n",
       "      <td>QMF</td>\n",
       "      <td>0403010B0AAAGAG</td>\n",
       "      <td>Amitriptyline 10mg tablets</td>\n",
       "      <td>3.217450e+08</td>\n",
       "      <td>NaN</td>\n",
       "      <td>tablet</td>\n",
       "      <td>0403010B0AAAGAG</td>\n",
       "      <td>Amitriptyline 10mg tablets</td>\n",
       "      <td>0403010B0</td>\n",
       "      <td>Amitriptyline hydrochloride</td>\n",
       "      <td>40301</td>\n",
       "      <td>Tricyclic and related antidepressant drugs</td>\n",
       "      <td>403</td>\n",
       "      <td>Antidepressant drugs</td>\n",
       "      <td>4</td>\n",
       "      <td>Central Nervous System</td>\n",
       "      <td>1</td>\n",
       "      <td>1</td>\n",
       "      <td>169790</td>\n",
       "      <td>7194178.0</td>\n",
       "      <td>237861.59</td>\n",
       "      <td>1.400916</td>\n",
       "      <td>0.033063</td>\n",
       "      <td>42.371035</td>\n",
       "    </tr>\n",
       "    <tr>\n",
       "      <th>2966</th>\n",
       "      <td>2019</td>\n",
       "      <td>LONDON</td>\n",
       "      <td>Y56</td>\n",
       "      <td>EAST LONDON HEALTH &amp; CARE P/SHIP STP</td>\n",
       "      <td>QMF</td>\n",
       "      <td>0403010B0AAAGAG</td>\n",
       "      <td>Amitriptyline 10mg tablets</td>\n",
       "      <td>3.109110e+14</td>\n",
       "      <td>A A H Pharmaceuticals Ltd</td>\n",
       "      <td>tablet</td>\n",
       "      <td>0403010B0AAAGAG</td>\n",
       "      <td>Amitriptyline 10mg tablets</td>\n",
       "      <td>0403010B0</td>\n",
       "      <td>Amitriptyline hydrochloride</td>\n",
       "      <td>40301</td>\n",
       "      <td>Tricyclic and related antidepressant drugs</td>\n",
       "      <td>403</td>\n",
       "      <td>Antidepressant drugs</td>\n",
       "      <td>4</td>\n",
       "      <td>Central Nervous System</td>\n",
       "      <td>5</td>\n",
       "      <td>5</td>\n",
       "      <td>16</td>\n",
       "      <td>812.0</td>\n",
       "      <td>26.96</td>\n",
       "      <td>1.685000</td>\n",
       "      <td>0.033202</td>\n",
       "      <td>50.750000</td>\n",
       "    </tr>\n",
       "  </tbody>\n",
       "</table>\n",
       "</div>"
      ],
      "text/plain": [
       "      YEAR_DESC REGION_NAME REGION_CODE                        GEOGRAPHY_NAME  \\\n",
       "2962       2019      LONDON         Y56  EAST LONDON HEALTH & CARE P/SHIP STP   \n",
       "2963       2019      LONDON         Y56  EAST LONDON HEALTH & CARE P/SHIP STP   \n",
       "2964       2019      LONDON         Y56  EAST LONDON HEALTH & CARE P/SHIP STP   \n",
       "2965       2019      LONDON         Y56  EAST LONDON HEALTH & CARE P/SHIP STP   \n",
       "2966       2019      LONDON         Y56  EAST LONDON HEALTH & CARE P/SHIP STP   \n",
       "\n",
       "     GEOGRAPHY_CODE BNF_PRESENTATION_CODE  \\\n",
       "2962            QMF       0403010B0AAA6A6   \n",
       "2963            QMF       0403010B0AAAFAF   \n",
       "2964            QMF       0403010B0AAAFAF   \n",
       "2965            QMF       0403010B0AAAGAG   \n",
       "2966            QMF       0403010B0AAAGAG   \n",
       "\n",
       "                                BNF_PRESENTATION_NAME   SNOMED_CODE  \\\n",
       "2962               Amitriptyline 10mg/5ml oral liquid  1.387901e+16   \n",
       "2963  Amitriptyline 50mg/5ml oral solution sugar free  3.590161e+16   \n",
       "2964  Amitriptyline 50mg/5ml oral solution sugar free  5.637110e+14   \n",
       "2965                       Amitriptyline 10mg tablets  3.217450e+08   \n",
       "2966                       Amitriptyline 10mg tablets  3.109110e+14   \n",
       "\n",
       "                     SUPPLIER_NAME UNIT_OF_MEASURE  \\\n",
       "2962                 Special Order              ml   \n",
       "2963                           NaN              ml   \n",
       "2964  Rosemont Pharmaceuticals Ltd              ml   \n",
       "2965                           NaN          tablet   \n",
       "2966     A A H Pharmaceuticals Ltd          tablet   \n",
       "\n",
       "     GENERIC_BNF_EQUIVALENT_CODE  \\\n",
       "2962             0403010B0AAA6A6   \n",
       "2963             0403010B0AAAFAF   \n",
       "2964             0403010B0AAAFAF   \n",
       "2965             0403010B0AAAGAG   \n",
       "2966             0403010B0AAAGAG   \n",
       "\n",
       "                          GENERIC_BNF_EQUIVALENT_NAME  \\\n",
       "2962               Amitriptyline 10mg/5ml oral liquid   \n",
       "2963  Amitriptyline 50mg/5ml oral solution sugar free   \n",
       "2964  Amitriptyline 50mg/5ml oral solution sugar free   \n",
       "2965                       Amitriptyline 10mg tablets   \n",
       "2966                       Amitriptyline 10mg tablets   \n",
       "\n",
       "     BNF_CHEMICAL_SUBSTANCE_CODE       BNF_CHEMICAL_SUBSTANCE  \\\n",
       "2962                   0403010B0  Amitriptyline hydrochloride   \n",
       "2963                   0403010B0  Amitriptyline hydrochloride   \n",
       "2964                   0403010B0  Amitriptyline hydrochloride   \n",
       "2965                   0403010B0  Amitriptyline hydrochloride   \n",
       "2966                   0403010B0  Amitriptyline hydrochloride   \n",
       "\n",
       "      BNF_PARAGRAPH_CODE                               BNF_PARAGRAPH  \\\n",
       "2962               40301  Tricyclic and related antidepressant drugs   \n",
       "2963               40301  Tricyclic and related antidepressant drugs   \n",
       "2964               40301  Tricyclic and related antidepressant drugs   \n",
       "2965               40301  Tricyclic and related antidepressant drugs   \n",
       "2966               40301  Tricyclic and related antidepressant drugs   \n",
       "\n",
       "      BNF_SECTION_CODE           BNF_SECTION  BNF_CHAPTER_CODE  \\\n",
       "2962               403  Antidepressant drugs                 4   \n",
       "2963               403  Antidepressant drugs                 4   \n",
       "2964               403  Antidepressant drugs                 4   \n",
       "2965               403  Antidepressant drugs                 4   \n",
       "2966               403  Antidepressant drugs                 4   \n",
       "\n",
       "                 BNF_CHAPTER  PREP_CLASS  PRESCRIBED_PREP_CLASS   ITEMS  \\\n",
       "2962  Central Nervous System           5                      5      10   \n",
       "2963  Central Nervous System           1                      1     114   \n",
       "2964  Central Nervous System           5                      5      12   \n",
       "2965  Central Nervous System           1                      1  169790   \n",
       "2966  Central Nervous System           5                      5      16   \n",
       "\n",
       "      TOTAL_QUANTITY        NIC  NIC_PER_ITEM  NIC_PER_QUANTITY  \\\n",
       "2962          3000.0    2375.68    237.568000          0.791893   \n",
       "2963         19776.0    2531.32     22.204561          0.128000   \n",
       "2964          4200.0     481.56     40.130000          0.114657   \n",
       "2965       7194178.0  237861.59      1.400916          0.033063   \n",
       "2966           812.0      26.96      1.685000          0.033202   \n",
       "\n",
       "      QUANTITY_PER_ITEM  \n",
       "2962         300.000000  \n",
       "2963         173.473684  \n",
       "2964         350.000000  \n",
       "2965          42.371035  \n",
       "2966          50.750000  "
      ]
     },
     "execution_count": 22,
     "metadata": {},
     "output_type": "execute_result"
    }
   ],
   "source": [
    "# Let's check this new dataset\n",
    "df_ad.head()"
   ]
  },
  {
   "cell_type": "markdown",
   "id": "35548952",
   "metadata": {},
   "source": [
    "<b>We now have a dataset detailing all antidepressant prescriptions made in England from 2019 to 2024.</b>\n",
    "\n",
    "We can now move on to data prep + cleaning.\n",
    "\n",
    "Once the dataframe is clean and ready for EDA, I will also export it as a .csv file.\n",
    "\n",
    "This is so that it can be imported into Tableau for EDA visualisation, as well as being joined to a shapefile I have for all NHS ICB's across England. This will allow me to visualise the prescription data geographically, using maps in Tableau."
   ]
  },
  {
   "cell_type": "markdown",
   "id": "3c74684e",
   "metadata": {},
   "source": [
    "## 2. Data Preparation"
   ]
  },
  {
   "cell_type": "markdown",
   "id": "6e5ff8c5",
   "metadata": {},
   "source": [
    "### 2.1 Quality Checks"
   ]
  },
  {
   "cell_type": "markdown",
   "id": "d37f5685",
   "metadata": {},
   "source": [
    "First, let's check for any duplicate entries in the data."
   ]
  },
  {
   "cell_type": "code",
   "execution_count": 23,
   "id": "41ed82ad",
   "metadata": {},
   "outputs": [
    {
     "data": {
      "text/plain": [
       "0"
      ]
     },
     "execution_count": 23,
     "metadata": {},
     "output_type": "execute_result"
    }
   ],
   "source": [
    "df_ad.duplicated().sum()"
   ]
  },
  {
   "cell_type": "markdown",
   "id": "c3f30cb2",
   "metadata": {},
   "source": [
    "<b>There are no duplicates!</b>"
   ]
  },
  {
   "cell_type": "markdown",
   "id": "f896b8b9",
   "metadata": {},
   "source": [
    "Now, let's check the shape of the dataset along with some key info relating to it."
   ]
  },
  {
   "cell_type": "code",
   "execution_count": 24,
   "id": "f3d08c10",
   "metadata": {},
   "outputs": [
    {
     "data": {
      "text/plain": [
       "(77559, 28)"
      ]
     },
     "execution_count": 24,
     "metadata": {},
     "output_type": "execute_result"
    }
   ],
   "source": [
    "df_ad.shape"
   ]
  },
  {
   "cell_type": "markdown",
   "id": "595f2a83",
   "metadata": {},
   "source": [
    "* There are <b>77559 records</b>, and <b>28 columns</b> in the dataset."
   ]
  },
  {
   "cell_type": "code",
   "execution_count": 25,
   "id": "49875a93",
   "metadata": {},
   "outputs": [
    {
     "name": "stdout",
     "output_type": "stream",
     "text": [
      "<class 'pandas.core.frame.DataFrame'>\n",
      "Index: 77559 entries, 2962 to 4602791\n",
      "Data columns (total 28 columns):\n",
      " #   Column                       Non-Null Count  Dtype  \n",
      "---  ------                       --------------  -----  \n",
      " 0   YEAR_DESC                    77559 non-null  int64  \n",
      " 1   REGION_NAME                  77559 non-null  object \n",
      " 2   REGION_CODE                  77559 non-null  object \n",
      " 3   GEOGRAPHY_NAME               77559 non-null  object \n",
      " 4   GEOGRAPHY_CODE               77559 non-null  object \n",
      " 5   BNF_PRESENTATION_CODE        77559 non-null  object \n",
      " 6   BNF_PRESENTATION_NAME        77559 non-null  object \n",
      " 7   SNOMED_CODE                  77559 non-null  float64\n",
      " 8   SUPPLIER_NAME                56064 non-null  object \n",
      " 9   UNIT_OF_MEASURE              77559 non-null  object \n",
      " 10  GENERIC_BNF_EQUIVALENT_CODE  77559 non-null  object \n",
      " 11  GENERIC_BNF_EQUIVALENT_NAME  77559 non-null  object \n",
      " 12  BNF_CHEMICAL_SUBSTANCE_CODE  77559 non-null  object \n",
      " 13  BNF_CHEMICAL_SUBSTANCE       77559 non-null  object \n",
      " 14  BNF_PARAGRAPH_CODE           77559 non-null  int64  \n",
      " 15  BNF_PARAGRAPH                77559 non-null  object \n",
      " 16  BNF_SECTION_CODE             77559 non-null  int64  \n",
      " 17  BNF_SECTION                  77559 non-null  object \n",
      " 18  BNF_CHAPTER_CODE             77559 non-null  int64  \n",
      " 19  BNF_CHAPTER                  77559 non-null  object \n",
      " 20  PREP_CLASS                   77559 non-null  int64  \n",
      " 21  PRESCRIBED_PREP_CLASS        77559 non-null  int64  \n",
      " 22  ITEMS                        77559 non-null  int64  \n",
      " 23  TOTAL_QUANTITY               77559 non-null  float64\n",
      " 24  NIC                          77559 non-null  float64\n",
      " 25  NIC_PER_ITEM                 77559 non-null  float64\n",
      " 26  NIC_PER_QUANTITY             77559 non-null  float64\n",
      " 27  QUANTITY_PER_ITEM            77559 non-null  float64\n",
      "dtypes: float64(6), int64(7), object(15)\n",
      "memory usage: 17.2+ MB\n"
     ]
    }
   ],
   "source": [
    "df_ad.info()"
   ]
  },
  {
   "cell_type": "code",
   "execution_count": 26,
   "id": "5d52272d",
   "metadata": {},
   "outputs": [
    {
     "data": {
      "text/html": [
       "<div>\n",
       "<style scoped>\n",
       "    .dataframe tbody tr th:only-of-type {\n",
       "        vertical-align: middle;\n",
       "    }\n",
       "\n",
       "    .dataframe tbody tr th {\n",
       "        vertical-align: top;\n",
       "    }\n",
       "\n",
       "    .dataframe thead th {\n",
       "        text-align: right;\n",
       "    }\n",
       "</style>\n",
       "<table border=\"1\" class=\"dataframe\">\n",
       "  <thead>\n",
       "    <tr style=\"text-align: right;\">\n",
       "      <th></th>\n",
       "      <th>YEAR_DESC</th>\n",
       "      <th>SNOMED_CODE</th>\n",
       "      <th>BNF_PARAGRAPH_CODE</th>\n",
       "      <th>BNF_SECTION_CODE</th>\n",
       "      <th>BNF_CHAPTER_CODE</th>\n",
       "      <th>PREP_CLASS</th>\n",
       "      <th>PRESCRIBED_PREP_CLASS</th>\n",
       "      <th>ITEMS</th>\n",
       "      <th>TOTAL_QUANTITY</th>\n",
       "      <th>NIC</th>\n",
       "      <th>NIC_PER_ITEM</th>\n",
       "      <th>NIC_PER_QUANTITY</th>\n",
       "      <th>QUANTITY_PER_ITEM</th>\n",
       "    </tr>\n",
       "  </thead>\n",
       "  <tbody>\n",
       "    <tr>\n",
       "      <th>count</th>\n",
       "      <td>77559.000000</td>\n",
       "      <td>7.755900e+04</td>\n",
       "      <td>77559.000000</td>\n",
       "      <td>77559.0</td>\n",
       "      <td>77559.0</td>\n",
       "      <td>77559.000000</td>\n",
       "      <td>77559.000000</td>\n",
       "      <td>7.755900e+04</td>\n",
       "      <td>7.755900e+04</td>\n",
       "      <td>7.755900e+04</td>\n",
       "      <td>77559.000000</td>\n",
       "      <td>77559.000000</td>\n",
       "      <td>77559.000000</td>\n",
       "    </tr>\n",
       "    <tr>\n",
       "      <th>mean</th>\n",
       "      <td>2021.466058</td>\n",
       "      <td>1.833438e+16</td>\n",
       "      <td>40302.846388</td>\n",
       "      <td>403.0</td>\n",
       "      <td>4.0</td>\n",
       "      <td>3.296961</td>\n",
       "      <td>3.017264</td>\n",
       "      <td>6.476273e+03</td>\n",
       "      <td>2.399108e+05</td>\n",
       "      <td>1.964798e+04</td>\n",
       "      <td>45.790074</td>\n",
       "      <td>0.628947</td>\n",
       "      <td>63.081322</td>\n",
       "    </tr>\n",
       "    <tr>\n",
       "      <th>std</th>\n",
       "      <td>1.714522</td>\n",
       "      <td>1.537480e+16</td>\n",
       "      <td>1.159710</td>\n",
       "      <td>0.0</td>\n",
       "      <td>0.0</td>\n",
       "      <td>1.645198</td>\n",
       "      <td>1.719709</td>\n",
       "      <td>3.554905e+04</td>\n",
       "      <td>1.358158e+06</td>\n",
       "      <td>9.404161e+04</td>\n",
       "      <td>140.866972</td>\n",
       "      <td>1.438870</td>\n",
       "      <td>76.826989</td>\n",
       "    </tr>\n",
       "    <tr>\n",
       "      <th>min</th>\n",
       "      <td>2019.000000</td>\n",
       "      <td>3.217450e+08</td>\n",
       "      <td>40301.000000</td>\n",
       "      <td>403.0</td>\n",
       "      <td>4.0</td>\n",
       "      <td>1.000000</td>\n",
       "      <td>1.000000</td>\n",
       "      <td>1.000000e+00</td>\n",
       "      <td>1.000000e+00</td>\n",
       "      <td>1.000000e-02</td>\n",
       "      <td>0.010000</td>\n",
       "      <td>0.000360</td>\n",
       "      <td>1.000000</td>\n",
       "    </tr>\n",
       "    <tr>\n",
       "      <th>25%</th>\n",
       "      <td>2020.000000</td>\n",
       "      <td>7.690110e+14</td>\n",
       "      <td>40302.000000</td>\n",
       "      <td>403.0</td>\n",
       "      <td>4.0</td>\n",
       "      <td>1.000000</td>\n",
       "      <td>1.000000</td>\n",
       "      <td>3.000000e+00</td>\n",
       "      <td>1.680000e+02</td>\n",
       "      <td>3.400000e+01</td>\n",
       "      <td>2.694775</td>\n",
       "      <td>0.071078</td>\n",
       "      <td>28.000000</td>\n",
       "    </tr>\n",
       "    <tr>\n",
       "      <th>50%</th>\n",
       "      <td>2021.000000</td>\n",
       "      <td>1.537571e+16</td>\n",
       "      <td>40303.000000</td>\n",
       "      <td>403.0</td>\n",
       "      <td>4.0</td>\n",
       "      <td>3.000000</td>\n",
       "      <td>3.000000</td>\n",
       "      <td>2.400000e+01</td>\n",
       "      <td>1.260000e+03</td>\n",
       "      <td>4.411200e+02</td>\n",
       "      <td>9.500000</td>\n",
       "      <td>0.189480</td>\n",
       "      <td>37.333330</td>\n",
       "    </tr>\n",
       "    <tr>\n",
       "      <th>75%</th>\n",
       "      <td>2023.000000</td>\n",
       "      <td>3.474091e+16</td>\n",
       "      <td>40304.000000</td>\n",
       "      <td>403.0</td>\n",
       "      <td>4.0</td>\n",
       "      <td>5.000000</td>\n",
       "      <td>5.000000</td>\n",
       "      <td>3.990000e+02</td>\n",
       "      <td>1.903100e+04</td>\n",
       "      <td>7.603890e+03</td>\n",
       "      <td>28.141255</td>\n",
       "      <td>0.667860</td>\n",
       "      <td>58.536950</td>\n",
       "    </tr>\n",
       "    <tr>\n",
       "      <th>max</th>\n",
       "      <td>2024.000000</td>\n",
       "      <td>4.378771e+16</td>\n",
       "      <td>40304.000000</td>\n",
       "      <td>403.0</td>\n",
       "      <td>4.0</td>\n",
       "      <td>5.000000</td>\n",
       "      <td>5.000000</td>\n",
       "      <td>1.023205e+06</td>\n",
       "      <td>4.692442e+07</td>\n",
       "      <td>6.326114e+06</td>\n",
       "      <td>4794.000000</td>\n",
       "      <td>68.235000</td>\n",
       "      <td>2250.000000</td>\n",
       "    </tr>\n",
       "  </tbody>\n",
       "</table>\n",
       "</div>"
      ],
      "text/plain": [
       "          YEAR_DESC   SNOMED_CODE  BNF_PARAGRAPH_CODE  BNF_SECTION_CODE  \\\n",
       "count  77559.000000  7.755900e+04        77559.000000           77559.0   \n",
       "mean    2021.466058  1.833438e+16        40302.846388             403.0   \n",
       "std        1.714522  1.537480e+16            1.159710               0.0   \n",
       "min     2019.000000  3.217450e+08        40301.000000             403.0   \n",
       "25%     2020.000000  7.690110e+14        40302.000000             403.0   \n",
       "50%     2021.000000  1.537571e+16        40303.000000             403.0   \n",
       "75%     2023.000000  3.474091e+16        40304.000000             403.0   \n",
       "max     2024.000000  4.378771e+16        40304.000000             403.0   \n",
       "\n",
       "       BNF_CHAPTER_CODE    PREP_CLASS  PRESCRIBED_PREP_CLASS         ITEMS  \\\n",
       "count           77559.0  77559.000000           77559.000000  7.755900e+04   \n",
       "mean                4.0      3.296961               3.017264  6.476273e+03   \n",
       "std                 0.0      1.645198               1.719709  3.554905e+04   \n",
       "min                 4.0      1.000000               1.000000  1.000000e+00   \n",
       "25%                 4.0      1.000000               1.000000  3.000000e+00   \n",
       "50%                 4.0      3.000000               3.000000  2.400000e+01   \n",
       "75%                 4.0      5.000000               5.000000  3.990000e+02   \n",
       "max                 4.0      5.000000               5.000000  1.023205e+06   \n",
       "\n",
       "       TOTAL_QUANTITY           NIC  NIC_PER_ITEM  NIC_PER_QUANTITY  \\\n",
       "count    7.755900e+04  7.755900e+04  77559.000000      77559.000000   \n",
       "mean     2.399108e+05  1.964798e+04     45.790074          0.628947   \n",
       "std      1.358158e+06  9.404161e+04    140.866972          1.438870   \n",
       "min      1.000000e+00  1.000000e-02      0.010000          0.000360   \n",
       "25%      1.680000e+02  3.400000e+01      2.694775          0.071078   \n",
       "50%      1.260000e+03  4.411200e+02      9.500000          0.189480   \n",
       "75%      1.903100e+04  7.603890e+03     28.141255          0.667860   \n",
       "max      4.692442e+07  6.326114e+06   4794.000000         68.235000   \n",
       "\n",
       "       QUANTITY_PER_ITEM  \n",
       "count       77559.000000  \n",
       "mean           63.081322  \n",
       "std            76.826989  \n",
       "min             1.000000  \n",
       "25%            28.000000  \n",
       "50%            37.333330  \n",
       "75%            58.536950  \n",
       "max          2250.000000  "
      ]
     },
     "execution_count": 26,
     "metadata": {},
     "output_type": "execute_result"
    }
   ],
   "source": [
    "df_ad.describe()"
   ]
  },
  {
   "cell_type": "markdown",
   "id": "ac289883",
   "metadata": {},
   "source": [
    "### 2.2 Data Cleaning"
   ]
  },
  {
   "cell_type": "markdown",
   "id": "d61bea21",
   "metadata": {},
   "source": [
    "#### Null Handling"
   ]
  },
  {
   "cell_type": "markdown",
   "id": "92a5c9b0",
   "metadata": {},
   "source": [
    "    SUPPLIER_NAME\n",
    "The column \"SUPPLIER_NAME\" is the only column with missing values. It has <b>21,495 null values</b>, which accounts for roughly <b>27.7% of all records</b>. This is quite a significant amount of missing data.\n",
    "\n",
    "Data on the supplier names for what antidepressants will become important when analysing the <b>market share of suppliers</b> and seeing who are producing the most antidepressant prescriptions.\n",
    "\n",
    "21,495 would be a very significant number of rows to drop, so I'd prefer not to just drop these rows from the dataset.\n",
    "\n",
    "Instead, I will <b>replace these null values</b> with a string <b>\"Unknown\"</b>.\n",
    "\n",
    "The benefit of this approach is that I can <b>retain the data I do have for these rows</b>, and also when it comes to analysis of market share, I can apply a <b>filter</b> in Tableau to <b>exclude any records with a supplier name of \"Unknown\"</b>. "
   ]
  },
  {
   "cell_type": "code",
   "execution_count": 27,
   "id": "2356030a",
   "metadata": {},
   "outputs": [
    {
     "name": "stderr",
     "output_type": "stream",
     "text": [
      "/var/folders/gv/ry8fcb9x2753_978l6fnrq640000gn/T/ipykernel_4751/1588970095.py:2: FutureWarning: A value is trying to be set on a copy of a DataFrame or Series through chained assignment using an inplace method.\n",
      "The behavior will change in pandas 3.0. This inplace method will never work because the intermediate object on which we are setting values always behaves as a copy.\n",
      "\n",
      "For example, when doing 'df[col].method(value, inplace=True)', try using 'df.method({col: value}, inplace=True)' or df[col] = df[col].method(value) instead, to perform the operation inplace on the original object.\n",
      "\n",
      "\n",
      "  df_ad['SUPPLIER_NAME'].fillna('Unknown', inplace=True)\n"
     ]
    }
   ],
   "source": [
    "# Impute any missing values in SUPPLIER_NAME with \"Unknown\"\n",
    "df_ad['SUPPLIER_NAME'].fillna('Unknown', inplace=True)"
   ]
  },
  {
   "cell_type": "code",
   "execution_count": 28,
   "id": "e79401b7",
   "metadata": {},
   "outputs": [
    {
     "data": {
      "text/plain": [
       "0"
      ]
     },
     "execution_count": 28,
     "metadata": {},
     "output_type": "execute_result"
    }
   ],
   "source": [
    "# Check to see if it's worked\n",
    "df_ad['SUPPLIER_NAME'].isnull().sum()"
   ]
  },
  {
   "cell_type": "markdown",
   "id": "63daefdd",
   "metadata": {},
   "source": [
    "Looks good!"
   ]
  },
  {
   "cell_type": "markdown",
   "id": "ecbc22d2",
   "metadata": {},
   "source": [
    "#### Data Casting"
   ]
  },
  {
   "cell_type": "code",
   "execution_count": 29,
   "id": "8095eb68",
   "metadata": {},
   "outputs": [],
   "source": [
    "df_ad.dtypes;"
   ]
  },
  {
   "cell_type": "markdown",
   "id": "8ac2bc4c",
   "metadata": {},
   "source": [
    "SNOMED_CODE is currently being stored as a float64 and is being displayed in scientific notation. Snomed codes are numerical codes that the NHS use to define various clinical characteristics of prescriptions for data processing purposes. They should be stored as strings. I will convert them to type string.\n",
    "\n",
    "This is important in case I join this dataset to another. SNOMED codes are a standardised indentifier of clinical information, so this must be retained in order to join to other datasets."
   ]
  },
  {
   "cell_type": "code",
   "execution_count": 30,
   "id": "74ed09dd",
   "metadata": {},
   "outputs": [],
   "source": [
    "# If I were to convert to string straight from float, the scientific notation would be retained which is not helpful.\n",
    "# First, I will convert SNOMED_CODE to type int. This will display the full numerical code and remove its scientific notation display.\n",
    "# THEN, I will convert to string. This should properly display each SNOMED code, in its numerical format, as a string.\n",
    "\n",
    "# Converts to type int\n",
    "df_ad['SNOMED_CODE'] = df_ad['SNOMED_CODE'].astype(int)\n",
    "\n",
    "# Converts to type string\n",
    "df_ad['SNOMED_CODE'] = df_ad['SNOMED_CODE'].astype(str)"
   ]
  },
  {
   "cell_type": "code",
   "execution_count": 31,
   "id": "b76bbaac",
   "metadata": {},
   "outputs": [
    {
     "data": {
      "text/plain": [
       "2962    13879011000001108\n",
       "2963    35901611000001104\n",
       "2964      563711000001107\n",
       "2965            321745007\n",
       "2966      310911000001104\n",
       "Name: SNOMED_CODE, dtype: object"
      ]
     },
     "execution_count": 31,
     "metadata": {},
     "output_type": "execute_result"
    }
   ],
   "source": [
    "# Check to see it's worked\n",
    "df_ad['SNOMED_CODE'].head()"
   ]
  },
  {
   "cell_type": "markdown",
   "id": "d97b7500",
   "metadata": {},
   "source": [
    "That's fixed!\n",
    "\n",
    "All other columns look good."
   ]
  },
  {
   "cell_type": "markdown",
   "id": "407cd8a6",
   "metadata": {},
   "source": [
    "#### Check's for String Consistency and Cardinality"
   ]
  },
  {
   "cell_type": "markdown",
   "id": "50525be5",
   "metadata": {},
   "source": [
    "Let's check for any inconsistencies in how strings are being stored. This is to make sure the same information isn't being stored differently (i.e. Geography_name containing both \"North London\" AND \"northlondon\". We want these to be treated as the same geography name)."
   ]
  },
  {
   "cell_type": "code",
   "execution_count": 32,
   "id": "a138d79c",
   "metadata": {},
   "outputs": [
    {
     "data": {
      "text/plain": [
       "42"
      ]
     },
     "execution_count": 32,
     "metadata": {},
     "output_type": "execute_result"
    }
   ],
   "source": [
    "df_ad['GEOGRAPHY_CODE'].nunique()"
   ]
  },
  {
   "cell_type": "code",
   "execution_count": 33,
   "id": "ad71fa08",
   "metadata": {},
   "outputs": [
    {
     "data": {
      "text/plain": [
       "84"
      ]
     },
     "execution_count": 33,
     "metadata": {},
     "output_type": "execute_result"
    }
   ],
   "source": [
    "df_ad['GEOGRAPHY_NAME'].nunique()"
   ]
  },
  {
   "cell_type": "markdown",
   "id": "d9267c9e",
   "metadata": {},
   "source": [
    "We can see that there are 42 Geography codes in our dataset - codes that represent key regions that the NHS operates in as individual bodies."
   ]
  },
  {
   "cell_type": "markdown",
   "id": "42e0b199",
   "metadata": {},
   "source": [
    "<b> There are 42 Codes, but 84 names - why?</b>"
   ]
  },
  {
   "cell_type": "markdown",
   "id": "d4a58bef",
   "metadata": {},
   "source": [
    "First, let's have a look at which codes have more than 1 name associated with it.\n",
    "\n",
    "As the number of names is double the number of codes, it is most likely that each code has 2 names associated with it, but it' best to check."
   ]
  },
  {
   "cell_type": "code",
   "execution_count": 34,
   "id": "9b758582",
   "metadata": {},
   "outputs": [
    {
     "data": {
      "text/plain": [
       "42"
      ]
     },
     "execution_count": 34,
     "metadata": {},
     "output_type": "execute_result"
    }
   ],
   "source": [
    "# Group by GEOGRAPHY_CODE and list unique names associated with each code\n",
    "code_to_names_mapping = df_ad.groupby('GEOGRAPHY_CODE')['GEOGRAPHY_NAME'].unique()\n",
    "\n",
    "# Filter to see only codes that have more than one unique name\n",
    "codes_with_multiple_names = code_to_names_mapping[code_to_names_mapping.apply(len) > 1]\n",
    "\n",
    "codes_with_multiple_names.count()\n"
   ]
  },
  {
   "cell_type": "markdown",
   "id": "f048df11",
   "metadata": {},
   "source": [
    "As we can see, all 42 codes have more than one name associated with it.\n",
    "\n",
    "<b>Why?</b>\n",
    "\n",
    "This is because, in 2022, the regional bodies of the NHS that these codes/names represent changed from \"Sustainability and Transformation Partnerships\" (STP's) to \"Integrated Care Boards\" (ICB's).\n",
    "This mostly involved various regulatory changes.\n",
    "\n",
    "It also meant changes in the name of that body, and in a small number of cases, minor changes in the regional borders that that body provides support for (this change is not significant enough to disrupt the explanatory power of this analysis).\n",
    "\n",
    "For consistency when it comes to visualising this data, it is best to retain only one name for each code.\n",
    "\n",
    "As ICB's are now the standard, we will use the ICB names for all data from 2019-2024. This will improve the ability to compare between years and regions during EDA."
   ]
  },
  {
   "cell_type": "code",
   "execution_count": 35,
   "id": "09af1fda",
   "metadata": {},
   "outputs": [
    {
     "data": {
      "text/plain": [
       "{'QE1': 'NHS LANCASHIRE AND SOUTH CUMBRIA INTEGRATED CARE BOARD',\n",
       " 'QF7': 'NHS SOUTH YORKSHIRE INTEGRATED CARE BOARD',\n",
       " 'QGH': 'NHS HEREFORDSHIRE AND WORCESTERSHIRE INTEGRATED CARE BOARD',\n",
       " 'QH8': 'NHS MID AND SOUTH ESSEX INTEGRATED CARE BOARD',\n",
       " 'QHG': 'NHS BEDFORDSHIRE, LUTON AND MILTON KEYNES INTEGRATED CARE BOARD',\n",
       " 'QHL': 'NHS BIRMINGHAM AND SOLIHULL INTEGRATED CARE BOARD',\n",
       " 'QHM': 'NHS NORTH EAST AND NORTH CUMBRIA INTEGRATED CARE BOARD',\n",
       " 'QJ2': 'NHS DERBY AND DERBYSHIRE INTEGRATED CARE BOARD',\n",
       " 'QJG': 'NHS SUFFOLK AND NORTH EAST ESSEX INTEGRATED CARE BOARD',\n",
       " 'QJK': 'NHS DEVON INTEGRATED CARE BOARD',\n",
       " 'QJM': 'NHS LINCOLNSHIRE INTEGRATED CARE BOARD',\n",
       " 'QK1': 'NHS LEICESTER, LEICESTERSHIRE AND RUTLAND INTEGRATED CARE BOARD',\n",
       " 'QKK': 'NHS SOUTH EAST LONDON INTEGRATED CARE BOARD',\n",
       " 'QKS': 'NHS KENT AND MEDWAY INTEGRATED CARE BOARD',\n",
       " 'QM7': 'NHS HERTFORDSHIRE AND WEST ESSEX INTEGRATED CARE BOARD',\n",
       " 'QMF': 'NHS NORTH EAST LONDON INTEGRATED CARE BOARD',\n",
       " 'QMJ': 'NHS NORTH CENTRAL LONDON INTEGRATED CARE BOARD',\n",
       " 'QMM': 'NHS NORFOLK AND WAVENEY INTEGRATED CARE BOARD',\n",
       " 'QNC': 'NHS STAFFORDSHIRE AND STOKE-ON-TRENT INTEGRATED CARE BOARD',\n",
       " 'QNQ': 'NHS FRIMLEY INTEGRATED CARE BOARD',\n",
       " 'QNX': 'NHS SUSSEX INTEGRATED CARE BOARD',\n",
       " 'QOC': 'NHS SHROPSHIRE, TELFORD AND WREKIN INTEGRATED CARE BOARD',\n",
       " 'QOP': 'NHS GREATER MANCHESTER INTEGRATED CARE BOARD',\n",
       " 'QOQ': 'NHS HUMBER AND NORTH YORKSHIRE INTEGRATED CARE BOARD',\n",
       " 'QOX': 'NHS BATH AND NORTH EAST SOMERSET, SWINDON AND WILTSHIRE INTEGRATED CARE BOARD',\n",
       " 'QPM': 'NHS NORTHAMPTONSHIRE INTEGRATED CARE BOARD',\n",
       " 'QR1': 'NHS GLOUCESTERSHIRE INTEGRATED CARE BOARD',\n",
       " 'QRL': 'NHS HAMPSHIRE AND ISLE OF WIGHT INTEGRATED CARE BOARD',\n",
       " 'QRV': 'NHS NORTH WEST LONDON INTEGRATED CARE BOARD',\n",
       " 'QSL': 'NHS SOMERSET INTEGRATED CARE BOARD',\n",
       " 'QT1': 'NHS NOTTINGHAM AND NOTTINGHAMSHIRE INTEGRATED CARE BOARD',\n",
       " 'QT6': 'NHS CORNWALL AND THE ISLES OF SCILLY INTEGRATED CARE BOARD',\n",
       " 'QU9': 'NHS BUCKINGHAMSHIRE, OXFORDSHIRE AND BERKSHIRE WEST INTEGRATED CARE BOARD',\n",
       " 'QUA': 'NHS BLACK COUNTRY INTEGRATED CARE BOARD',\n",
       " 'QUE': 'NHS CAMBRIDGESHIRE AND PETERBOROUGH INTEGRATED CARE BOARD',\n",
       " 'QUY': 'NHS BRISTOL, NORTH SOMERSET AND SOUTH GLOUCESTERSHIRE INTEGRATED CARE BOARD',\n",
       " 'QVV': 'NHS DORSET INTEGRATED CARE BOARD',\n",
       " 'QWE': 'NHS SOUTH WEST LONDON INTEGRATED CARE BOARD',\n",
       " 'QWO': 'NHS WEST YORKSHIRE INTEGRATED CARE BOARD',\n",
       " 'QWU': 'NHS COVENTRY AND WARWICKSHIRE INTEGRATED CARE BOARD',\n",
       " 'QXU': 'NHS SURREY HEARTLANDS INTEGRATED CARE BOARD',\n",
       " 'QYG': 'NHS CHESHIRE AND MERSEYSIDE INTEGRATED CARE BOARD'}"
      ]
     },
     "execution_count": 35,
     "metadata": {},
     "output_type": "execute_result"
    }
   ],
   "source": [
    "# In order to replace the STP names, I first need to get a dictionary that contains all of the ICB names for each ICB code. These can be found y using the most recent year in the dataset.\n",
    "\n",
    "# Create a DataFrame with each geography code and their names from the latest year (the ICB names)\n",
    "latest_names_per_code = df_ad.loc[df_ad.groupby('GEOGRAPHY_CODE')['YEAR_DESC'].idxmax()][['GEOGRAPHY_CODE', 'GEOGRAPHY_NAME']]\n",
    "latest_names_per_code = latest_names_per_code.drop_duplicates(subset=['GEOGRAPHY_CODE'])\n",
    "\n",
    "# Convert this to a dictionary\n",
    "definitive_code_to_name_map = pd.Series(latest_names_per_code.GEOGRAPHY_NAME.values, index=latest_names_per_code.GEOGRAPHY_CODE).to_dict()\n",
    "\n",
    "# Check that it's worked\n",
    "definitive_code_to_name_map\n"
   ]
  },
  {
   "cell_type": "code",
   "execution_count": 36,
   "id": "6f429abe",
   "metadata": {},
   "outputs": [],
   "source": [
    "# Now I will map the ICB names to all their corresponding geography codes, replacing the old STP geography names\n",
    "df_ad['GEOGRAPHY_NAME'] = df_ad['GEOGRAPHY_CODE'].map(definitive_code_to_name_map)\n",
    "df_ad.head();\n"
   ]
  },
  {
   "cell_type": "code",
   "execution_count": 37,
   "id": "e049e27e",
   "metadata": {},
   "outputs": [
    {
     "data": {
      "text/plain": [
       "42"
      ]
     },
     "execution_count": 37,
     "metadata": {},
     "output_type": "execute_result"
    }
   ],
   "source": [
    "df_ad['GEOGRAPHY_NAME'].nunique()"
   ]
  },
  {
   "cell_type": "markdown",
   "id": "928aceca",
   "metadata": {},
   "source": [
    "<b>Okay, the geography names are now standardised to display only their ICB version!</b>"
   ]
  },
  {
   "cell_type": "markdown",
   "id": "1a491e57",
   "metadata": {},
   "source": [
    "Let's do a quick check for any <b>consistency/cardinality</b> issues for <b>other key columns</b>."
   ]
  },
  {
   "cell_type": "code",
   "execution_count": 38,
   "id": "6b8845fc",
   "metadata": {},
   "outputs": [
    {
     "data": {
      "text/plain": [
       "array(['LONDON', 'SOUTH WEST', 'SOUTH EAST', 'MIDLANDS',\n",
       "       'EAST OF ENGLAND', 'NORTH WEST', 'NORTH EAST AND YORKSHIRE'],\n",
       "      dtype=object)"
      ]
     },
     "execution_count": 38,
     "metadata": {},
     "output_type": "execute_result"
    }
   ],
   "source": [
    "df_ad['REGION_NAME'].unique()"
   ]
  },
  {
   "cell_type": "code",
   "execution_count": 39,
   "id": "0986045e",
   "metadata": {},
   "outputs": [],
   "source": [
    "df_ad['BNF_CHEMICAL_SUBSTANCE'].unique();"
   ]
  },
  {
   "cell_type": "code",
   "execution_count": 40,
   "id": "f7eb72e1",
   "metadata": {},
   "outputs": [
    {
     "data": {
      "text/plain": [
       "array(['Tricyclic and related antidepressant drugs',\n",
       "       'Monoamine-oxidase inhibitors (maois)',\n",
       "       'Selective serotonin re-uptake inhibitors',\n",
       "       'Other antidepressant drugs'], dtype=object)"
      ]
     },
     "execution_count": 40,
     "metadata": {},
     "output_type": "execute_result"
    }
   ],
   "source": [
    "df_ad['BNF_PARAGRAPH'].unique()"
   ]
  },
  {
   "cell_type": "code",
   "execution_count": 41,
   "id": "992969e5",
   "metadata": {},
   "outputs": [
    {
     "data": {
      "text/plain": [
       "array(['ml', 'tablet', 'capsule', 'UNKNOWN'], dtype=object)"
      ]
     },
     "execution_count": 41,
     "metadata": {},
     "output_type": "execute_result"
    }
   ],
   "source": [
    "df_ad['UNIT_OF_MEASURE'].unique()"
   ]
  },
  {
   "cell_type": "markdown",
   "id": "0d8b396c",
   "metadata": {},
   "source": [
    "All looks good!"
   ]
  },
  {
   "cell_type": "markdown",
   "id": "515e766a",
   "metadata": {},
   "source": [
    "#### The data is now looking much cleaner and ready to use!"
   ]
  },
  {
   "cell_type": "markdown",
   "id": "07990ee2",
   "metadata": {},
   "source": [
    "### 2.3 Exporting into Tableau"
   ]
  },
  {
   "cell_type": "markdown",
   "id": "a8f7cf0a",
   "metadata": {},
   "source": [
    "Much of the EDA and data visualisation will be completed in Tableau. I will export this df_ad as a .csv file to import into Tableau!\n",
    "\n",
    "Once the dataset is inside Tableau, there is one more thing I need to do before I start EDA.\n",
    "\n",
    "* This dataset contains columns based on geographical locations. However, these geographical locations, called ICB's, are not recognised by Tableau as their borders do not conform to any standard geographical borders such as for countries/regions/states.\n",
    "\n",
    "\n",
    "* In order to visualise this data geographically (on a map, for example), I must join this dataset with a shapefile I have downloaded that contains the information needed for Tableau to understand the geographical borders for each ICB. This will allow the data to be visualised on a map.\n",
    "\n",
    "\n",
    "* Once I have connected these two together, I will start on EDA in Tableau."
   ]
  },
  {
   "cell_type": "markdown",
   "id": "894dc98b",
   "metadata": {},
   "source": [
    "#### Connecting the dataset to the ICB shapefile in tableau"
   ]
  },
  {
   "cell_type": "markdown",
   "id": "e8a00053",
   "metadata": {},
   "source": [
    "After inspecting the shapefile I have for all the ICB's, can see that the strings contained in the column I will use to join the shapefile to df_ad (I am joining them by geography name) do not match exactly.\n",
    "\n",
    "* In df_ad, they are written in capital letters\n",
    "\n",
    "* In the shapefile, however, they are in title case.\n",
    "\n",
    "To resolve this, I will first convert df_ad['GEOGRAPHY_NAME'] to title case, and THEN export it as a .csv file to load into Tableau."
   ]
  },
  {
   "cell_type": "code",
   "execution_count": 42,
   "id": "bcf8dbdf",
   "metadata": {},
   "outputs": [],
   "source": [
    "# This converts each ICB name to Title case\n",
    "df_ad['GEOGRAPHY_NAME'] = df_ad['GEOGRAPHY_NAME'].str.title()\n",
    "\n",
    "# \"NHS\", however needs to remain capitalised. This code uses RegEx to replace the now title-cased \"Nhs\" with \"NHS\"\n",
    "df_ad['GEOGRAPHY_NAME'] = df_ad['GEOGRAPHY_NAME'].str.replace(r'^Nhs\\b', 'NHS', regex=True)\n",
    "\n",
    "# In the shapefile, the word \"and\" is also not title-cased, so I need to fix that too\n",
    "df_ad['GEOGRAPHY_NAME'] = df_ad['GEOGRAPHY_NAME'].str.replace(r'\\bAnd\\b', 'and', regex=True)\n",
    "\n",
    "# The same for the word \"the\"\n",
    "df_ad['GEOGRAPHY_NAME'] = df_ad['GEOGRAPHY_NAME'].str.replace(r'\\bThe\\b', 'the', regex=True)\n",
    "\n",
    "# The same for the word \"of\"\n",
    "df_ad['GEOGRAPHY_NAME'] = df_ad['GEOGRAPHY_NAME'].str.replace(r'\\bOf\\b', 'of', regex=True)\n",
    "\n",
    "# The same for the word \"of\" in \"Stoke-on-Trent\"\n",
    "df_ad['GEOGRAPHY_NAME'] = df_ad['GEOGRAPHY_NAME'].str.replace(r'\\b-On-\\b', '-on-', regex=True)"
   ]
  },
  {
   "cell_type": "code",
   "execution_count": null,
   "id": "6f470def",
   "metadata": {},
   "outputs": [],
   "source": [
    "# Export the dataframe to a CSV file\n",
    "# This will be loaded into Tableau for visualisation\n",
    "df_ad.to_csv('antidepressant_pca.csv', index=False)"
   ]
  },
  {
   "cell_type": "markdown",
   "id": "e2fe6d02",
   "metadata": {},
   "source": [
    "#### Done! The dataset is now in Tableau and I have connected it to its shapefile"
   ]
  },
  {
   "cell_type": "markdown",
   "id": "844e3e02",
   "metadata": {},
   "source": [
    "## 3. EDA"
   ]
  },
  {
   "cell_type": "markdown",
   "id": "e606e8a9",
   "metadata": {},
   "source": []
  }
 ],
 "metadata": {
  "kernelspec": {
   "display_name": "base",
   "language": "python",
   "name": "python3"
  },
  "language_info": {
   "codemirror_mode": {
    "name": "ipython",
    "version": 3
   },
   "file_extension": ".py",
   "mimetype": "text/x-python",
   "name": "python",
   "nbconvert_exporter": "python",
   "pygments_lexer": "ipython3",
   "version": "3.12.7"
  }
 },
 "nbformat": 4,
 "nbformat_minor": 5
}
